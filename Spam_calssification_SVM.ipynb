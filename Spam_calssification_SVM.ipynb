{
 "cells": [
  {
   "cell_type": "code",
   "execution_count": 1,
   "metadata": {
    "collapsed": true
   },
   "outputs": [],
   "source": [
    "from sklearn.svm import SVC"
   ]
  },
  {
   "cell_type": "code",
   "execution_count": 2,
   "metadata": {
    "collapsed": true
   },
   "outputs": [],
   "source": [
    "from sklearn.datasets import load_breast_cancer\n",
    "from sklearn.linear_model import LogisticRegression\n",
    "from sklearn.metrics import accuracy_score\n",
    "from sklearn.model_selection import train_test_split\n",
    "from sklearn.model_selection import cross_val_predict,cross_val_score\n",
    "from sklearn import model_selection\n",
    "from sklearn.model_selection import KFold\n",
    "\n",
    "import numpy as np\n",
    "import matplotlib.pyplot as plt\n",
    "from sklearn.model_selection import GridSearchCV\n",
    "from sklearn.preprocessing import StandardScaler\n",
    "from sklearn.pipeline import Pipeline,make_pipeline\n",
    "\n",
    "from sklearn.tree import DecisionTreeClassifier\n",
    "from sklearn.naive_bayes import MultinomialNB\n",
    "import pandas as pd"
   ]
  },
  {
   "cell_type": "code",
   "execution_count": 3,
   "metadata": {
    "collapsed": true
   },
   "outputs": [],
   "source": [
    "from sklearn.feature_extraction.text import CountVectorizer"
   ]
  },
  {
   "cell_type": "code",
   "execution_count": 22,
   "metadata": {
    "collapsed": true
   },
   "outputs": [],
   "source": [
    "from sklearn.metrics import precision_score, recall_score, f1_score,classification_report"
   ]
  },
  {
   "cell_type": "code",
   "execution_count": 18,
   "metadata": {
    "collapsed": true
   },
   "outputs": [],
   "source": [
    "import warnings\n",
    "from sklearn.exceptions import DataConversionWarning\n",
    "warnings.filterwarnings(action='ignore', category=DataConversionWarning)"
   ]
  },
  {
   "cell_type": "code",
   "execution_count": 4,
   "metadata": {
    "collapsed": true
   },
   "outputs": [],
   "source": [
    "sms = pd.read_table(\"sms.tsv\",header = None,names = [\"label\",\"message\"])"
   ]
  },
  {
   "cell_type": "code",
   "execution_count": 5,
   "metadata": {
    "collapsed": true
   },
   "outputs": [],
   "source": [
    "sms[\"label\"] = sms.label.map({'ham':0,\"spam\":1})"
   ]
  },
  {
   "cell_type": "code",
   "execution_count": 7,
   "metadata": {
    "collapsed": true
   },
   "outputs": [],
   "source": [
    "X = sms.message\n",
    "y = sms.label"
   ]
  },
  {
   "cell_type": "code",
   "execution_count": 8,
   "metadata": {
    "collapsed": false
   },
   "outputs": [],
   "source": [
    "X_train,X_test,y_train,y_test = train_test_split(X,y,test_size = 1000,random_state = 123)"
   ]
  },
  {
   "cell_type": "code",
   "execution_count": 28,
   "metadata": {
    "collapsed": true
   },
   "outputs": [],
   "source": [
    "pipeline_svm = Pipeline([('counter',CountVectorizer(max_df=0.8,min_df=0.0)),\n",
    "                       ('scaler',StandardScaler(with_mean=False)),\n",
    "                        ('svm',SVC())])\n",
    "param_grid = [{'svm__kernel':['rbf'],\n",
    "                  'svm__gamma':[0.0,0.5],\n",
    "                  'svm__C':[1.0,10.0,0.5]},\n",
    "                 {'svm__kernel':['poly'],\n",
    "                  'svm__degree':[1,2],\n",
    "                 'svm__C':[1.0,10.0,0.5]},\n",
    "                 {'svm__kernel':['sigmoid'],\n",
    "                 'svm__C':[1.0,10.0,0.5]}]\n"
   ]
  },
  {
   "cell_type": "code",
   "execution_count": 29,
   "metadata": {
    "collapsed": false
   },
   "outputs": [
    {
     "name": "stdout",
     "output_type": "stream",
     "text": [
      "{'svm__C': 1.0, 'svm__kernel': 'sigmoid'}\n",
      "0.979440069991\n"
     ]
    }
   ],
   "source": [
    "grid = GridSearchCV(pipeline_svm,\n",
    "                    param_grid,\n",
    "                    cv=5,\n",
    "                    refit=True,\n",
    "                    n_jobs=3)\n",
    "grid.fit(X_train,y_train)\n",
    "    \n",
    "print(grid.best_params_)\n",
    "print(grid.best_score_)"
   ]
  },
  {
   "cell_type": "code",
   "execution_count": 30,
   "metadata": {
    "collapsed": true
   },
   "outputs": [],
   "source": [
    "best_model = grid.best_estimator_"
   ]
  },
  {
   "cell_type": "code",
   "execution_count": 31,
   "metadata": {
    "collapsed": false
   },
   "outputs": [
    {
     "name": "stdout",
     "output_type": "stream",
     "text": [
      "             precision    recall  f1-score   support\n",
      "\n",
      "          0       0.98      1.00      0.99       860\n",
      "          1       1.00      0.87      0.93       140\n",
      "\n",
      "avg / total       0.98      0.98      0.98      1000\n",
      "\n"
     ]
    }
   ],
   "source": [
    "print(classification_report(y_pred=best_model.predict(X_test),y_true=y_test))"
   ]
  },
  {
   "cell_type": "code",
   "execution_count": 32,
   "metadata": {
    "collapsed": false
   },
   "outputs": [
    {
     "data": {
      "text/plain": [
       "0.98199999999999998"
      ]
     },
     "execution_count": 32,
     "metadata": {},
     "output_type": "execute_result"
    }
   ],
   "source": [
    "accuracy_score(grid.predict(X_test),y_test)"
   ]
  },
  {
   "cell_type": "code",
   "execution_count": 36,
   "metadata": {
    "collapsed": false
   },
   "outputs": [
    {
     "name": "stderr",
     "output_type": "stream",
     "text": [
      "/home/kodolamacz/anaconda3/lib/python3.6/site-packages/sklearn/model_selection/_search.py:667: DeprecationWarning: The grid_scores_ attribute was deprecated in version 0.18 in favor of the more elaborate cv_results_ attribute. The grid_scores_ attribute will not be available from 0.20\n",
      "  DeprecationWarning)\n"
     ]
    },
    {
     "data": {
      "text/plain": [
       "[mean: 0.86724, std: 0.00046, params: {'svm__C': 1.0, 'svm__gamma': 0.0, 'svm__kernel': 'rbf'},\n",
       " mean: 0.89808, std: 0.00591, params: {'svm__C': 1.0, 'svm__gamma': 0.5, 'svm__kernel': 'rbf'},\n",
       " mean: 0.86724, std: 0.00046, params: {'svm__C': 10.0, 'svm__gamma': 0.0, 'svm__kernel': 'rbf'},\n",
       " mean: 0.89829, std: 0.00625, params: {'svm__C': 10.0, 'svm__gamma': 0.5, 'svm__kernel': 'rbf'},\n",
       " mean: 0.86724, std: 0.00046, params: {'svm__C': 0.5, 'svm__gamma': 0.0, 'svm__kernel': 'rbf'},\n",
       " mean: 0.87095, std: 0.00074, params: {'svm__C': 0.5, 'svm__gamma': 0.5, 'svm__kernel': 'rbf'},\n",
       " mean: 0.97266, std: 0.00703, params: {'svm__C': 1.0, 'svm__degree': 1, 'svm__kernel': 'poly'},\n",
       " mean: 0.92082, std: 0.00441, params: {'svm__C': 1.0, 'svm__degree': 2, 'svm__kernel': 'poly'},\n",
       " mean: 0.97332, std: 0.00681, params: {'svm__C': 10.0, 'svm__degree': 1, 'svm__kernel': 'poly'},\n",
       " mean: 0.92542, std: 0.00423, params: {'svm__C': 10.0, 'svm__degree': 2, 'svm__kernel': 'poly'},\n",
       " mean: 0.96982, std: 0.00725, params: {'svm__C': 0.5, 'svm__degree': 1, 'svm__kernel': 'poly'},\n",
       " mean: 0.91295, std: 0.00653, params: {'svm__C': 0.5, 'svm__degree': 2, 'svm__kernel': 'poly'},\n",
       " mean: 0.97944, std: 0.00538, params: {'svm__C': 1.0, 'svm__kernel': 'sigmoid'},\n",
       " mean: 0.97572, std: 0.00424, params: {'svm__C': 10.0, 'svm__kernel': 'sigmoid'},\n",
       " mean: 0.97332, std: 0.00745, params: {'svm__C': 0.5, 'svm__kernel': 'sigmoid'}]"
      ]
     },
     "execution_count": 36,
     "metadata": {},
     "output_type": "execute_result"
    }
   ],
   "source": [
    "grid.grid_scores_"
   ]
  },
  {
   "cell_type": "code",
   "execution_count": null,
   "metadata": {
    "collapsed": true
   },
   "outputs": [],
   "source": []
  }
 ],
 "metadata": {
  "kernelspec": {
   "display_name": "Python 3",
   "language": "python",
   "name": "python3"
  },
  "language_info": {
   "codemirror_mode": {
    "name": "ipython",
    "version": 3
   },
   "file_extension": ".py",
   "mimetype": "text/x-python",
   "name": "python",
   "nbconvert_exporter": "python",
   "pygments_lexer": "ipython3",
   "version": "3.6.0"
  }
 },
 "nbformat": 4,
 "nbformat_minor": 2
}
