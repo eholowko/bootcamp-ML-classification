{
 "cells": [
  {
   "cell_type": "code",
   "execution_count": 2,
   "metadata": {
    "collapsed": false
   },
   "outputs": [],
   "source": [
    "from sklearn.datasets import load_breast_cancer\n",
    "from sklearn.linear_model import LogisticRegression\n",
    "from sklearn.metrics import accuracy_score\n",
    "from sklearn.model_selection import train_test_split\n",
    "from sklearn.model_selection import cross_val_predict,cross_val_score\n",
    "from sklearn import model_slection\n",
    "from sklearn.model_selection import KFold\n",
    "\n",
    "import numpy as np\n",
    "import matplotlib.pyplot as plt\n",
    "from sklearn.model_selection import GridSearchCV\n",
    "from sklearn.preprocessing import StandardScaler\n",
    "from sklearn.pipeline import Pipeline,make_pipeline\n",
    "from sklearn.tree import DecisionTreeClassifier"
   ]
  },
  {
   "cell_type": "code",
   "execution_count": 16,
   "metadata": {
    "collapsed": false
   },
   "outputs": [],
   "source": [
    "from sklearn.datasets import load_iris\n",
    "from sklearn.metrics import confusion_matrix"
   ]
  },
  {
   "cell_type": "code",
   "execution_count": 5,
   "metadata": {
    "collapsed": true
   },
   "outputs": [],
   "source": [
    "iris = load_iris()"
   ]
  },
  {
   "cell_type": "code",
   "execution_count": 6,
   "metadata": {
    "collapsed": true
   },
   "outputs": [],
   "source": [
    "X,y = iris.data,iris.target"
   ]
  },
  {
   "cell_type": "code",
   "execution_count": 7,
   "metadata": {
    "collapsed": false
   },
   "outputs": [
    {
     "data": {
      "text/plain": [
       "['sepal length (cm)',\n",
       " 'sepal width (cm)',\n",
       " 'petal length (cm)',\n",
       " 'petal width (cm)']"
      ]
     },
     "execution_count": 7,
     "metadata": {},
     "output_type": "execute_result"
    }
   ],
   "source": [
    "iris.feature_names"
   ]
  },
  {
   "cell_type": "code",
   "execution_count": 9,
   "metadata": {
    "collapsed": false
   },
   "outputs": [
    {
     "data": {
      "text/plain": [
       "array([0, 1, 2])"
      ]
     },
     "execution_count": 9,
     "metadata": {},
     "output_type": "execute_result"
    }
   ],
   "source": [
    "np.unique(y)"
   ]
  },
  {
   "cell_type": "code",
   "execution_count": 10,
   "metadata": {
    "collapsed": true
   },
   "outputs": [],
   "source": [
    "X_train,X_test,y_train,y_test = train_test_split(X,y,test_size=50)"
   ]
  },
  {
   "cell_type": "code",
   "execution_count": 11,
   "metadata": {
    "collapsed": false
   },
   "outputs": [
    {
     "data": {
      "text/plain": [
       "LogisticRegression(C=1.0, class_weight=None, dual=False, fit_intercept=True,\n",
       "          intercept_scaling=1, max_iter=100, multi_class='ovr', n_jobs=1,\n",
       "          penalty='l2', random_state=None, solver='liblinear', tol=0.0001,\n",
       "          verbose=0, warm_start=False)"
      ]
     },
     "execution_count": 11,
     "metadata": {},
     "output_type": "execute_result"
    }
   ],
   "source": [
    "model = LogisticRegression()\n",
    "model.fit(X_train,y_train)"
   ]
  },
  {
   "cell_type": "code",
   "execution_count": 12,
   "metadata": {
    "collapsed": false
   },
   "outputs": [
    {
     "data": {
      "text/plain": [
       "array([2, 2, 2, 0, 1, 2, 0, 1, 2, 1, 0, 1, 1, 2, 0, 1, 1, 1, 0, 0, 2, 1, 0,\n",
       "       1, 0, 2, 1, 2, 0, 2, 0, 2, 1, 2, 0, 0, 1, 2, 0, 2, 0, 0, 0, 0, 1, 1,\n",
       "       2, 1, 2, 2])"
      ]
     },
     "execution_count": 12,
     "metadata": {},
     "output_type": "execute_result"
    }
   ],
   "source": [
    "model.predict(X_test)"
   ]
  },
  {
   "cell_type": "code",
   "execution_count": 13,
   "metadata": {
    "collapsed": false
   },
   "outputs": [
    {
     "data": {
      "text/plain": [
       "array([[  3.75601151e-03,   4.84344131e-01,   5.11899858e-01],\n",
       "       [  4.03446573e-04,   3.47411477e-01,   6.52185077e-01],\n",
       "       [  1.21358456e-03,   2.99506728e-01,   6.99279687e-01],\n",
       "       [  7.96765531e-01,   2.03089216e-01,   1.45252990e-04],\n",
       "       [  1.30658037e-02,   7.35449996e-01,   2.51484200e-01],\n",
       "       [  2.18779682e-03,   3.14927552e-01,   6.82884651e-01],\n",
       "       [  8.01276880e-01,   1.98317488e-01,   4.05632471e-04],\n",
       "       [  2.72856278e-02,   6.89053278e-01,   2.83661094e-01],\n",
       "       [  9.98484643e-04,   2.41611830e-01,   7.57389685e-01],\n",
       "       [  7.55818414e-02,   7.54215193e-01,   1.70202966e-01],\n",
       "       [  8.86885204e-01,   1.13037632e-01,   7.71636859e-05],\n",
       "       [  4.94903827e-02,   7.49923089e-01,   2.00586529e-01],\n",
       "       [  5.08219428e-02,   7.78316119e-01,   1.70861938e-01],\n",
       "       [  1.77931747e-02,   4.09574227e-01,   5.72632598e-01],\n",
       "       [  8.45292267e-01,   1.54602167e-01,   1.05565792e-04],\n",
       "       [  1.15111311e-02,   7.26299825e-01,   2.62189044e-01],\n",
       "       [  1.13415913e-01,   7.29355294e-01,   1.57228793e-01],\n",
       "       [  4.81458156e-02,   6.42893446e-01,   3.08960739e-01],\n",
       "       [  8.26203010e-01,   1.73498917e-01,   2.98073136e-04],\n",
       "       [  8.27108283e-01,   1.72610819e-01,   2.80897992e-04],\n",
       "       [  6.19419115e-04,   3.00618695e-01,   6.98761886e-01],\n",
       "       [  1.37384724e-03,   5.10015721e-01,   4.88610432e-01],\n",
       "       [  9.08872973e-01,   9.10101517e-02,   1.16875581e-04],\n",
       "       [  1.62798558e-02,   5.50312850e-01,   4.33407294e-01],\n",
       "       [  8.88782703e-01,   1.11128460e-01,   8.88372563e-05],\n",
       "       [  5.47718289e-03,   3.87092785e-01,   6.07430033e-01],\n",
       "       [  2.88260625e-02,   4.98378142e-01,   4.72795795e-01],\n",
       "       [  5.02890070e-02,   4.38546494e-01,   5.11164499e-01],\n",
       "       [  8.85828473e-01,   1.14122009e-01,   4.95187804e-05],\n",
       "       [  3.55706456e-03,   2.86152328e-01,   7.10290607e-01],\n",
       "       [  7.90420629e-01,   2.09426101e-01,   1.53270436e-04],\n",
       "       [  5.75470498e-03,   3.35294810e-01,   6.58950485e-01],\n",
       "       [  4.77980150e-02,   7.38661041e-01,   2.13540944e-01],\n",
       "       [  1.30820648e-03,   2.52028894e-01,   7.46662900e-01],\n",
       "       [  9.34548804e-01,   6.54323722e-02,   1.88238983e-05],\n",
       "       [  9.02304786e-01,   9.74564747e-02,   2.38739090e-04],\n",
       "       [  5.18034549e-02,   5.63501423e-01,   3.84695122e-01],\n",
       "       [  8.85407144e-04,   1.74935807e-01,   8.24178786e-01],\n",
       "       [  9.14428210e-01,   8.55082690e-02,   6.35214900e-05],\n",
       "       [  4.16135934e-04,   2.51655685e-01,   7.47928180e-01],\n",
       "       [  7.96765531e-01,   2.03089216e-01,   1.45252990e-04],\n",
       "       [  8.55411201e-01,   1.44393861e-01,   1.94938516e-04],\n",
       "       [  8.50865202e-01,   1.49034948e-01,   9.98497900e-05],\n",
       "       [  8.54425326e-01,   1.45458095e-01,   1.16578693e-04],\n",
       "       [  5.31260313e-02,   7.92030525e-01,   1.54843443e-01],\n",
       "       [  7.42230775e-02,   7.45531892e-01,   1.80245031e-01],\n",
       "       [  5.88842340e-04,   3.34579254e-01,   6.64831904e-01],\n",
       "       [  4.30592409e-02,   4.89868316e-01,   4.67072443e-01],\n",
       "       [  1.75411021e-03,   3.27197744e-01,   6.71048146e-01],\n",
       "       [  5.68775276e-04,   2.82338765e-01,   7.17092460e-01]])"
      ]
     },
     "execution_count": 13,
     "metadata": {},
     "output_type": "execute_result"
    }
   ],
   "source": [
    "model.predict_proba(X_test)"
   ]
  },
  {
   "cell_type": "code",
   "execution_count": 14,
   "metadata": {
    "collapsed": false
   },
   "outputs": [
    {
     "data": {
      "text/plain": [
       "0.93999999999999995"
      ]
     },
     "execution_count": 14,
     "metadata": {},
     "output_type": "execute_result"
    }
   ],
   "source": [
    "accuracy_score(model.predict(X_test),y_test)"
   ]
  },
  {
   "cell_type": "code",
   "execution_count": 15,
   "metadata": {
    "collapsed": false
   },
   "outputs": [
    {
     "data": {
      "text/plain": [
       "array([[ 0.38701729,  1.31671052, -2.0697777 , -0.92254942],\n",
       "       [ 0.35704658, -1.375785  ,  0.48156115, -1.11709478],\n",
       "       [-1.49468933, -1.17083538,  2.03144896,  2.24451391]])"
      ]
     },
     "execution_count": 15,
     "metadata": {},
     "output_type": "execute_result"
    }
   ],
   "source": [
    "model.coef_"
   ]
  },
  {
   "cell_type": "code",
   "execution_count": 17,
   "metadata": {
    "collapsed": false
   },
   "outputs": [
    {
     "data": {
      "text/plain": [
       "array([[17,  0,  0],\n",
       "       [ 0, 15,  2],\n",
       "       [ 0,  1, 15]])"
      ]
     },
     "execution_count": 17,
     "metadata": {},
     "output_type": "execute_result"
    }
   ],
   "source": [
    "confusion_matrix(y_test,model.predict(X_test))"
   ]
  },
  {
   "cell_type": "code",
   "execution_count": 20,
   "metadata": {
    "collapsed": false
   },
   "outputs": [
    {
     "data": {
      "text/plain": [
       "0.93999999999999995"
      ]
     },
     "execution_count": 20,
     "metadata": {},
     "output_type": "execute_result"
    }
   ],
   "source": [
    "model = DecisionTreeClassifier(min_samples_leaf=5)\n",
    "model.fit(X_train,y_train)\n",
    "accuracy_score(y_test,model.predict(X_test))"
   ]
  },
  {
   "cell_type": "code",
   "execution_count": 21,
   "metadata": {
    "collapsed": false
   },
   "outputs": [
    {
     "data": {
      "text/plain": [
       "array([[17,  0,  0],\n",
       "       [ 0, 17,  0],\n",
       "       [ 0,  3, 13]])"
      ]
     },
     "execution_count": 21,
     "metadata": {},
     "output_type": "execute_result"
    }
   ],
   "source": [
    "confusion_matrix(y_test,model.predict(X_test))"
   ]
  },
  {
   "cell_type": "code",
   "execution_count": 22,
   "metadata": {
    "collapsed": false
   },
   "outputs": [
    {
     "data": {
      "text/plain": [
       "array([[ 0.        ,  0.66666667,  0.33333333],\n",
       "       [ 0.        ,  0.        ,  1.        ],\n",
       "       [ 0.        ,  0.2       ,  0.8       ],\n",
       "       [ 1.        ,  0.        ,  0.        ],\n",
       "       [ 0.        ,  1.        ,  0.        ],\n",
       "       [ 0.        ,  0.        ,  1.        ],\n",
       "       [ 1.        ,  0.        ,  0.        ],\n",
       "       [ 0.        ,  1.        ,  0.        ],\n",
       "       [ 0.        ,  0.        ,  1.        ],\n",
       "       [ 0.        ,  1.        ,  0.        ],\n",
       "       [ 1.        ,  0.        ,  0.        ],\n",
       "       [ 0.        ,  1.        ,  0.        ],\n",
       "       [ 0.        ,  1.        ,  0.        ],\n",
       "       [ 0.        ,  1.        ,  0.        ],\n",
       "       [ 1.        ,  0.        ,  0.        ],\n",
       "       [ 0.        ,  1.        ,  0.        ],\n",
       "       [ 0.        ,  1.        ,  0.        ],\n",
       "       [ 0.        ,  1.        ,  0.        ],\n",
       "       [ 1.        ,  0.        ,  0.        ],\n",
       "       [ 1.        ,  0.        ,  0.        ],\n",
       "       [ 0.        ,  0.        ,  1.        ],\n",
       "       [ 0.        ,  0.66666667,  0.33333333],\n",
       "       [ 1.        ,  0.        ,  0.        ],\n",
       "       [ 0.        ,  1.        ,  0.        ],\n",
       "       [ 1.        ,  0.        ,  0.        ],\n",
       "       [ 0.        ,  0.2       ,  0.8       ],\n",
       "       [ 0.        ,  1.        ,  0.        ],\n",
       "       [ 0.        ,  1.        ,  0.        ],\n",
       "       [ 1.        ,  0.        ,  0.        ],\n",
       "       [ 0.        ,  1.        ,  0.        ],\n",
       "       [ 1.        ,  0.        ,  0.        ],\n",
       "       [ 0.        ,  0.2       ,  0.8       ],\n",
       "       [ 0.        ,  1.        ,  0.        ],\n",
       "       [ 0.        ,  0.        ,  1.        ],\n",
       "       [ 1.        ,  0.        ,  0.        ],\n",
       "       [ 1.        ,  0.        ,  0.        ],\n",
       "       [ 0.        ,  1.        ,  0.        ],\n",
       "       [ 0.        ,  0.        ,  1.        ],\n",
       "       [ 1.        ,  0.        ,  0.        ],\n",
       "       [ 0.        ,  0.        ,  1.        ],\n",
       "       [ 1.        ,  0.        ,  0.        ],\n",
       "       [ 1.        ,  0.        ,  0.        ],\n",
       "       [ 1.        ,  0.        ,  0.        ],\n",
       "       [ 1.        ,  0.        ,  0.        ],\n",
       "       [ 0.        ,  1.        ,  0.        ],\n",
       "       [ 0.        ,  1.        ,  0.        ],\n",
       "       [ 0.        ,  0.        ,  1.        ],\n",
       "       [ 0.        ,  1.        ,  0.        ],\n",
       "       [ 0.        ,  0.        ,  1.        ],\n",
       "       [ 0.        ,  0.        ,  1.        ]])"
      ]
     },
     "execution_count": 22,
     "metadata": {},
     "output_type": "execute_result"
    }
   ],
   "source": [
    "model.predict_proba(X_test)"
   ]
  },
  {
   "cell_type": "code",
   "execution_count": null,
   "metadata": {
    "collapsed": true
   },
   "outputs": [],
   "source": []
  }
 ],
 "metadata": {
  "kernelspec": {
   "display_name": "Python 3",
   "language": "python",
   "name": "python3"
  },
  "language_info": {
   "codemirror_mode": {
    "name": "ipython",
    "version": 3
   },
   "file_extension": ".py",
   "mimetype": "text/x-python",
   "name": "python",
   "nbconvert_exporter": "python",
   "pygments_lexer": "ipython3",
   "version": "3.6.0"
  }
 },
 "nbformat": 4,
 "nbformat_minor": 2
}
