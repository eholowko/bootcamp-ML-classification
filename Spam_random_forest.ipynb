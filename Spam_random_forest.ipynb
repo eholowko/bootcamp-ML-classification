{
 "cells": [
  {
   "cell_type": "code",
   "execution_count": 4,
   "metadata": {
    "collapsed": true
   },
   "outputs": [],
   "source": [
    "from sklearn.datasets import load_breast_cancer\n",
    "from sklearn.linear_model import LogisticRegression\n",
    "from sklearn.metrics import accuracy_score\n",
    "from sklearn.model_selection import train_test_split\n",
    "from sklearn.model_selection import cross_val_predict,cross_val_score\n",
    "from sklearn import model_selection\n",
    "from sklearn.model_selection import KFold\n",
    "\n",
    "import numpy as np\n",
    "import matplotlib.pyplot as plt\n",
    "from sklearn.model_selection import GridSearchCV\n",
    "from sklearn.preprocessing import StandardScaler\n",
    "from sklearn.pipeline import Pipeline,make_pipeline\n",
    "\n",
    "from sklearn.tree import DecisionTreeClassifier\n",
    "from sklearn.naive_bayes import MultinomialNB\n",
    "import pandas as pd\n",
    "\n",
    "from sklearn.ensemble import RandomForestClassifier\n",
    "from sklearn.ensemble import BaggingClassifier\n",
    "\n",
    "from sklearn.ensemble import VotingClassifier\n",
    "from sklearn.feature_extraction.text import CountVectorizer\n",
    "\n",
    "from sklearn.metrics import precision_score, recall_score, f1_score,classification_report"
   ]
  },
  {
   "cell_type": "code",
   "execution_count": 5,
   "metadata": {
    "collapsed": true
   },
   "outputs": [],
   "source": [
    "import warnings\n",
    "from sklearn.exceptions import DataConversionWarning\n",
    "warnings.filterwarnings(action='ignore', category=DataConversionWarning)"
   ]
  },
  {
   "cell_type": "code",
   "execution_count": 6,
   "metadata": {
    "collapsed": true
   },
   "outputs": [],
   "source": [
    "sms = pd.read_table(\"sms.tsv\",header = None,names = [\"label\",\"message\"])"
   ]
  },
  {
   "cell_type": "code",
   "execution_count": 7,
   "metadata": {
    "collapsed": true
   },
   "outputs": [],
   "source": [
    "sms[\"label\"] = sms.label.map({'ham':0,\"spam\":1})"
   ]
  },
  {
   "cell_type": "code",
   "execution_count": 8,
   "metadata": {
    "collapsed": true
   },
   "outputs": [],
   "source": [
    "X = sms.message\n",
    "y = sms.label"
   ]
  },
  {
   "cell_type": "code",
   "execution_count": 9,
   "metadata": {
    "collapsed": true
   },
   "outputs": [],
   "source": [
    "X_train,X_test,y_train,y_test = train_test_split(X,y,test_size = 1000,random_state = 123)"
   ]
  },
  {
   "cell_type": "code",
   "execution_count": 14,
   "metadata": {
    "collapsed": false
   },
   "outputs": [],
   "source": [
    "pipeline_forest = Pipeline([('counter',CountVectorizer(min_df=0.0,max_df=0.8)),\n",
    "                        ('forest',RandomForestClassifier())])\n",
    "param_grid = {\"forest__n_estimators\":[10,50],\n",
    "              \"forest__min_samples_leaf\":[5,10,20],\n",
    "                  \"forest__bootstrap\":[True,False]}"
   ]
  },
  {
   "cell_type": "code",
   "execution_count": 15,
   "metadata": {
    "collapsed": false
   },
   "outputs": [
    {
     "name": "stdout",
     "output_type": "stream",
     "text": [
      "{'forest__bootstrap': False, 'forest__min_samples_leaf': 5, 'forest__n_estimators': 50}\n",
      "0.964348206474\n"
     ]
    }
   ],
   "source": [
    "grid = GridSearchCV(pipeline_forest,\n",
    "                    param_grid,\n",
    "                    cv=5,\n",
    "                    refit=True,\n",
    "                    n_jobs=3)\n",
    "grid.fit(X_train,y_train)\n",
    "    \n",
    "print(grid.best_params_)\n",
    "print(grid.best_score_)"
   ]
  },
  {
   "cell_type": "code",
   "execution_count": 29,
   "metadata": {
    "collapsed": true
   },
   "outputs": [],
   "source": [
    "pipeline_bag_tree = Pipeline([('counter',CountVectorizer(min_df=0.0,max_df=0.8)),\n",
    "                        ('bag_tree',BaggingClassifier(base_estimator=DecisionTreeClassifier()))])\n",
    "param_grid = {\"bag_tree__n_estimators\":[10,50],\n",
    "              \"bag_tree__bootstrap\":[True,False],\n",
    "             \"bag_tree__max_samples\":[0.2,0.5,0.8],\n",
    "             \"bag_tree__base_estimator__min_samples_split\":[5,10]}"
   ]
  },
  {
   "cell_type": "code",
   "execution_count": 43,
   "metadata": {
    "collapsed": false
   },
   "outputs": [
    {
     "name": "stdout",
     "output_type": "stream",
     "text": [
      "{'bag_tree__base_estimator__min_samples_split': 10, 'bag_tree__bootstrap': False, 'bag_tree__max_samples': 0.8, 'bag_tree__n_estimators': 10}\n",
      "0.892257496547\n"
     ]
    }
   ],
   "source": [
    "grid = GridSearchCV(pipeline_bag_tree,\n",
    "                    param_grid,\n",
    "                    cv=5,\n",
    "                    refit=True,\n",
    "                    n_jobs=3,\n",
    "                   scoring = 'f1')\n",
    "grid.fit(X_train,y_train)\n",
    "    \n",
    "print(grid.best_params_)\n",
    "print(grid.best_score_)"
   ]
  },
  {
   "cell_type": "code",
   "execution_count": 40,
   "metadata": {
    "collapsed": true
   },
   "outputs": [],
   "source": [
    "GridSearchCV?"
   ]
  },
  {
   "cell_type": "code",
   "execution_count": 31,
   "metadata": {
    "collapsed": true
   },
   "outputs": [],
   "source": [
    "best_model = grid.best_estimator_"
   ]
  },
  {
   "cell_type": "code",
   "execution_count": 34,
   "metadata": {
    "collapsed": false
   },
   "outputs": [
    {
     "name": "stdout",
     "output_type": "stream",
     "text": [
      "             precision    recall  f1-score   support\n",
      "\n",
      "          0       1.00      1.00      1.00      3965\n",
      "          1       1.00      1.00      1.00       607\n",
      "\n",
      "avg / total       1.00      1.00      1.00      4572\n",
      "\n"
     ]
    }
   ],
   "source": [
    "print(classification_report(y_pred=best_model.predict(X_train),y_true=y_train))"
   ]
  },
  {
   "cell_type": "code",
   "execution_count": 37,
   "metadata": {
    "collapsed": false
   },
   "outputs": [
    {
     "data": {
      "text/plain": [
       "0.15308953341740228"
      ]
     },
     "execution_count": 37,
     "metadata": {},
     "output_type": "execute_result"
    }
   ],
   "source": [
    "607/3965 #niezbalansowane klasy - zamiast accuracy lepiej stosować F1 "
   ]
  },
  {
   "cell_type": "code",
   "execution_count": null,
   "metadata": {
    "collapsed": true
   },
   "outputs": [],
   "source": []
  }
 ],
 "metadata": {
  "kernelspec": {
   "display_name": "Python 3",
   "language": "python",
   "name": "python3"
  },
  "language_info": {
   "codemirror_mode": {
    "name": "ipython",
    "version": 3
   },
   "file_extension": ".py",
   "mimetype": "text/x-python",
   "name": "python",
   "nbconvert_exporter": "python",
   "pygments_lexer": "ipython3",
   "version": "3.6.0"
  }
 },
 "nbformat": 4,
 "nbformat_minor": 2
}
